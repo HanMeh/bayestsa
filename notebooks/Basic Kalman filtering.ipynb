{
 "cells": [
  {
   "cell_type": "markdown",
   "metadata": {},
   "source": [
    "# Basic Kalman filtering\n",
    "\n",
    "Hello world!\n",
    "\n"
   ]
  },
  {
   "cell_type": "code",
   "execution_count": 2,
   "metadata": {
    "collapsed": false,
    "scrolled": true
   },
   "outputs": [
    {
     "data": {
      "text/plain": [
       "8"
      ]
     },
     "execution_count": 2,
     "metadata": {},
     "output_type": "execute_result"
    }
   ],
   "source": [
    "3+5"
   ]
  },
  {
   "cell_type": "code",
   "execution_count": 3,
   "metadata": {
    "collapsed": false
   },
   "outputs": [
    {
     "data": {
      "text/plain": [
       "array([ 1.,  2.,  3.])"
      ]
     },
     "execution_count": 3,
     "metadata": {},
     "output_type": "execute_result"
    }
   ],
   "source": [
    "import numpy as np\n",
    "a = np.array([1.,2.,3.])\n",
    "a"
   ]
  },
  {
   "cell_type": "code",
   "execution_count": 11,
   "metadata": {
    "collapsed": false
   },
   "outputs": [],
   "source": [
    "import thalesians.maths.numpypreconditions"
   ]
  },
  {
   "cell_type": "markdown",
   "metadata": {
    "collapsed": true
   },
   "source": [
    "As a matter of fact, it should be possible to use LaTeX in this. This is how: $a = \\sin(\\pi/2)$.\n",
    "\n",
    "Indeed, you can also use something like this:\n",
    "\\begin{equation*}\n",
    "a = \\sin\\left(\\frac{\\pi}{2}\\right)\n",
    "\\end{equation*}"
   ]
  },
  {
   "cell_type": "code",
   "execution_count": 6,
   "metadata": {
    "collapsed": false
   },
   "outputs": [
    {
     "ename": "ModuleNotFoundError",
     "evalue": "No module named 'maths'",
     "output_type": "error",
     "traceback": [
      "\u001b[0;31m---------------------------------------------------------------------------\u001b[0m",
      "\u001b[0;31mModuleNotFoundError\u001b[0m                       Traceback (most recent call last)",
      "\u001b[0;32m<ipython-input-6-c2983d43bb99>\u001b[0m in \u001b[0;36m<module>\u001b[0;34m()\u001b[0m\n\u001b[0;32m----> 1\u001b[0;31m \u001b[1;32mfrom\u001b[0m \u001b[0mthalesians\u001b[0m\u001b[1;33m.\u001b[0m\u001b[0mfiltering\u001b[0m\u001b[1;33m.\u001b[0m\u001b[0malgs\u001b[0m\u001b[1;33m.\u001b[0m\u001b[0mkalman\u001b[0m \u001b[1;32mimport\u001b[0m \u001b[0mKalmanFilter\u001b[0m\u001b[1;33m\u001b[0m\u001b[0m\n\u001b[0m",
      "\u001b[0;32mC:\\Users\\Paul Bilokon\\Documents\\dev\\bayestsa\\code\\thalesians\\filtering\\algs\\kalman.py\u001b[0m in \u001b[0;36m<module>\u001b[0;34m()\u001b[0m\n\u001b[1;32m      3\u001b[0m \u001b[1;32mimport\u001b[0m \u001b[0mnumpy\u001b[0m \u001b[1;32mas\u001b[0m \u001b[0mnp\u001b[0m\u001b[1;33m\u001b[0m\u001b[0m\n\u001b[1;32m      4\u001b[0m \u001b[1;33m\u001b[0m\u001b[0m\n\u001b[0;32m----> 5\u001b[0;31m \u001b[1;32mimport\u001b[0m \u001b[0mthalesians\u001b[0m\u001b[1;33m.\u001b[0m\u001b[0mmaths\u001b[0m\u001b[1;33m.\u001b[0m\u001b[0mnumpyutils\u001b[0m \u001b[1;32mas\u001b[0m \u001b[0mnpu\u001b[0m\u001b[1;33m\u001b[0m\u001b[0m\n\u001b[0m\u001b[1;32m      6\u001b[0m \u001b[1;33m\u001b[0m\u001b[0m\n\u001b[1;32m      7\u001b[0m \u001b[1;32mclass\u001b[0m \u001b[0mKalmanFilter\u001b[0m\u001b[1;33m(\u001b[0m\u001b[0mobject\u001b[0m\u001b[1;33m)\u001b[0m\u001b[1;33m:\u001b[0m\u001b[1;33m\u001b[0m\u001b[0m\n",
      "\u001b[0;32mC:\\Users\\Paul Bilokon\\Documents\\dev\\bayestsa\\code\\thalesians\\maths\\numpyutils.py\u001b[0m in \u001b[0;36m<module>\u001b[0;34m()\u001b[0m\n\u001b[1;32m      1\u001b[0m \u001b[1;32mimport\u001b[0m \u001b[0mnumpy\u001b[0m \u001b[1;32mas\u001b[0m \u001b[0mnp\u001b[0m\u001b[1;33m\u001b[0m\u001b[0m\n\u001b[1;32m      2\u001b[0m \u001b[1;33m\u001b[0m\u001b[0m\n\u001b[0;32m----> 3\u001b[0;31m \u001b[1;32mimport\u001b[0m \u001b[0mmaths\u001b[0m\u001b[1;33m.\u001b[0m\u001b[0mnumpypreconditions\u001b[0m \u001b[1;32mas\u001b[0m \u001b[0mnpp\u001b[0m\u001b[1;33m\u001b[0m\u001b[0m\n\u001b[0m\u001b[1;32m      4\u001b[0m \u001b[1;33m\u001b[0m\u001b[0m\n\u001b[1;32m      5\u001b[0m \u001b[1;32mdef\u001b[0m \u001b[0mimmutablecopyof\u001b[0m\u001b[1;33m(\u001b[0m\u001b[0marg\u001b[0m\u001b[1;33m)\u001b[0m\u001b[1;33m:\u001b[0m\u001b[1;33m\u001b[0m\u001b[0m\n",
      "\u001b[0;31mModuleNotFoundError\u001b[0m: No module named 'maths'"
     ]
    }
   ],
   "source": [
    "from thalesians.filtering.algs.kalman import KalmanFilter"
   ]
  },
  {
   "cell_type": "code",
   "execution_count": 4,
   "metadata": {
    "collapsed": false
   },
   "outputs": [
    {
     "name": "stdout",
     "output_type": "stream",
     "text": [
      "['', 'C:\\\\Users\\\\Paul Bilokon\\\\Documents\\\\dev\\\\bayestsa\\\\notebooks', 'C:\\\\Users\\\\Paul Bilokon\\\\Documents\\\\dev\\\\bayestsa', 'C:\\\\Programs\\\\Win64\\\\Anaconda\\\\V3.6_4.3.0\\\\python36.zip', 'C:\\\\Programs\\\\Win64\\\\Anaconda\\\\V3.6_4.3.0\\\\DLLs', 'C:\\\\Programs\\\\Win64\\\\Anaconda\\\\V3.6_4.3.0\\\\lib', 'C:\\\\Programs\\\\Win64\\\\Anaconda\\\\V3.6_4.3.0', 'C:\\\\Programs\\\\Win64\\\\Anaconda\\\\V3.6_4.3.0\\\\lib\\\\site-packages', 'C:\\\\Programs\\\\Win64\\\\Anaconda\\\\V3.6_4.3.0\\\\lib\\\\site-packages\\\\Sphinx-1.5.1-py3.6.egg', 'C:\\\\Programs\\\\Win64\\\\Anaconda\\\\V3.6_4.3.0\\\\lib\\\\site-packages\\\\win32', 'C:\\\\Programs\\\\Win64\\\\Anaconda\\\\V3.6_4.3.0\\\\lib\\\\site-packages\\\\win32\\\\lib', 'C:\\\\Programs\\\\Win64\\\\Anaconda\\\\V3.6_4.3.0\\\\lib\\\\site-packages\\\\Pythonwin', 'C:\\\\Programs\\\\Win64\\\\Anaconda\\\\V3.6_4.3.0\\\\lib\\\\site-packages\\\\setuptools-27.2.0-py3.6.egg', 'C:\\\\Programs\\\\Win64\\\\Anaconda\\\\V3.6_4.3.0\\\\lib\\\\site-packages\\\\IPython\\\\extensions', 'C:\\\\Users\\\\Paul Bilokon\\\\.ipython']\n"
     ]
    }
   ],
   "source": [
    "import sys; print(sys.path)"
   ]
  }
 ],
 "metadata": {
  "kernelspec": {
   "display_name": "Python 3",
   "language": "python",
   "name": "python3"
  },
  "language_info": {
   "codemirror_mode": {
    "name": "ipython",
    "version": 3
   },
   "file_extension": ".py",
   "mimetype": "text/x-python",
   "name": "python",
   "nbconvert_exporter": "python",
   "pygments_lexer": "ipython3",
   "version": "3.6.0"
  }
 },
 "nbformat": 4,
 "nbformat_minor": 2
}
